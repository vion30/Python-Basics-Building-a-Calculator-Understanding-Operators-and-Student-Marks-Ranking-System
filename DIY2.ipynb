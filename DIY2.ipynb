{
 "cells": [
  {
   "cell_type": "markdown",
   "id": "428494ea-c221-4594-8a02-105e72398eec",
   "metadata": {},
   "source": [
    "Student Marks Ranking System"
   ]
  },
  {
   "cell_type": "code",
   "execution_count": 7,
   "id": "185f036c-6a7c-4551-9667-c69340572be9",
   "metadata": {},
   "outputs": [
    {
     "name": "stdout",
     "output_type": "stream",
     "text": [
      "Enter Marks of all six subjects one by one::\n"
     ]
    },
    {
     "name": "stdin",
     "output_type": "stream",
     "text": [
      "Enter marks of sunject 1: 80\n",
      "Enter marks of sunject 2: 80\n",
      "Enter marks of sunject 3: 80\n",
      "Enter marks of sunject 4: 80\n",
      "Enter marks of sunject 5: 80\n",
      "Enter marks of sunject 6: 80\n"
     ]
    },
    {
     "name": "stdout",
     "output_type": "stream",
     "text": [
      "Total Marks:  480\n",
      "Average Marks:  80.0\n",
      "Percentage:  80.0\n"
     ]
    }
   ],
   "source": [
    "# Q1. Problem Statement: The Percentage Calculator\n",
    "# Write a Python program that takes marks as input for six subjects, with\n",
    "# maximum marks being 600, and prints total marks, average marks, and\n",
    "# percentages obtained by a student.\n",
    "\n",
    "print(\"Enter Marks of all six subjects one by one::\")\n",
    "sub1 = int(input(\"Enter marks of sunject 1:\"))\n",
    "sub2 = int(input(\"Enter marks of sunject 2:\"))\n",
    "sub3 = int(input(\"Enter marks of sunject 3:\"))\n",
    "sub4 = int(input(\"Enter marks of sunject 4:\"))\n",
    "sub5 = int(input(\"Enter marks of sunject 5:\"))\n",
    "sub6 = int(input(\"Enter marks of sunject 6:\"))\n",
    "\n",
    "sum = sub1+sub2+sub3+sub4+sub5+sub6\n",
    "avg = (sub1+sub2+sub3+sub4+sub5+sub6)/6\n",
    "per = ((sub1+sub2+sub3+sub4+sub5+sub6)/600)*100\n",
    "\n",
    "print(\"Total Marks: \",sum)\n",
    "print(\"Average Marks: \",avg)\n",
    "print(\"Percentage: \",per)\n"
   ]
  },
  {
   "cell_type": "code",
   "execution_count": 5,
   "id": "6dbcec74-7567-409f-9954-aa80d49212dc",
   "metadata": {},
   "outputs": [
    {
     "name": "stdout",
     "output_type": "stream",
     "text": [
      "[[80, 'Aiden'], [75, 'Prajwal'], [65, 'Martin'], [78, 'Gaurav'], [55, 'Sebby']]\n",
      "The highest scorer is  Aiden\n",
      "The 2nd highest scorer is  Gaurav\n"
     ]
    }
   ],
   "source": [
    "# Q2. Problem Statement: The Score Card\n",
    "# Declare a nested list with Exam scores and Student names as shown here -\n",
    "# \"score=[[510, 'John'],[280, 'Lucy']……]\".Write a Python program\n",
    "# to sort the list based on scores and print the students' names with first and\n",
    "# second-highest scores.\n",
    "\n",
    "score = [[80, \"Aiden\"],[75, \"Prajwal\"],[65, \"Martin\"],[78, \"Gaurav\"],[55, \"Sebby\"]]\n",
    "\n",
    "print(score)\n",
    "max= 0\n",
    "max2= 0\n",
    "index1 = 0\n",
    "index2 = 0\n",
    "count = 0\n",
    "count2 =0\n",
    "for i in score:\n",
    "    if i[0] > max:\n",
    "        max2 = max\n",
    "        max = i[0]\n",
    "        index2 = index1\n",
    "        index1 = count\n",
    "\n",
    "    count+=1\n",
    "\n",
    "if index1 == 0:\n",
    "    for i in score:\n",
    "        if i[0] != max:\n",
    "            if i[0] > max2:\n",
    "                max2 = i[0]\n",
    "                index2 = count2\n",
    "                \n",
    "        count2+=1\n",
    "\n",
    "print(\"The highest scorer is \", score[index1][1])\n",
    "print(\"The 2nd highest scorer is \", score[index2][1])"
   ]
  }
 ],
 "metadata": {
  "kernelspec": {
   "display_name": "Python 3 (ipykernel)",
   "language": "python",
   "name": "python3"
  },
  "language_info": {
   "codemirror_mode": {
    "name": "ipython",
    "version": 3
   },
   "file_extension": ".py",
   "mimetype": "text/x-python",
   "name": "python",
   "nbconvert_exporter": "python",
   "pygments_lexer": "ipython3",
   "version": "3.12.4"
  }
 },
 "nbformat": 4,
 "nbformat_minor": 5
}
