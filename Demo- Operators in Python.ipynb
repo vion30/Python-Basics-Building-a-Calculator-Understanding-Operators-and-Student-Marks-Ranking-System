{
 "cells": [
  {
   "cell_type": "markdown",
   "metadata": {
    "id": "kftINPtVPOP8"
   },
   "source": [
    "# Python Basics\n",
    "\n",
    "### Demo 1: Operators in Python"
   ]
  },
  {
   "cell_type": "markdown",
   "metadata": {
    "id": "unRY5oWzTNhR"
   },
   "source": [
    "### Arithmetic Operators and Built-in Functions - Using Python as a calculator\n",
    "The following are examples of the kinds of Python expressions that we can use.\n",
    "\n",
    "| Operator | Description |\n",
    "|----|---|\n",
    "| +  | Addition |\n",
    "| -  | Subtraction |\n",
    "| /  | division |\n",
    "| %  | mod (remainder) |\n",
    "| *  | multiplication |\n",
    "| //  | floor division |\n",
    "| **  | to the power of |"
   ]
  },
  {
   "cell_type": "code",
   "execution_count": null,
   "metadata": {
    "colab": {
     "base_uri": "https://localhost:8080/",
     "height": 34
    },
    "id": "vcGojFZ4TNhT",
    "outputId": "17b496b0-dcd2-49c3-bf55-61770e218efc"
   },
   "outputs": [],
   "source": [
    "6 + 5"
   ]
  },
  {
   "cell_type": "code",
   "execution_count": null,
   "metadata": {
    "colab": {
     "base_uri": "https://localhost:8080/",
     "height": 34
    },
    "id": "wKXjWA9LTNhX",
    "outputId": "412fe7b4-fd49-4c35-c094-a1420701fb6c"
   },
   "outputs": [],
   "source": [
    "20 - 12.5"
   ]
  },
  {
   "cell_type": "code",
   "execution_count": null,
   "metadata": {},
   "outputs": [],
   "source": [
    "x = 10\n",
    "x_negate = -x\n",
    "print(x_negate)"
   ]
  },
  {
   "cell_type": "code",
   "execution_count": null,
   "metadata": {
    "colab": {
     "base_uri": "https://localhost:8080/",
     "height": 34
    },
    "id": "wZdkY8n2TNha",
    "outputId": "89abbf9b-edea-4e13-d7b5-84048be524d3"
   },
   "outputs": [],
   "source": [
    "3.14 * 6"
   ]
  },
  {
   "cell_type": "markdown",
   "metadata": {
    "id": "6VbZR8kBTNhd"
   },
   "source": [
    "Each Python value has a type.  `6`, `5`, `20`, and `6` have type `int`.  `12.5` and `3.14` have type `float`. Float stands for *floating point number*. Floats are approximations to the real numbers."
   ]
  },
  {
   "cell_type": "markdown",
   "metadata": {
    "id": "CZvGqgkaTNhe"
   },
   "source": [
    "Python has two different division operators: `/` produces a `float` and `//` is integer division (it produces an `int`)."
   ]
  },
  {
   "cell_type": "code",
   "execution_count": null,
   "metadata": {
    "colab": {
     "base_uri": "https://localhost:8080/",
     "height": 34
    },
    "id": "0UQ9fG-aTNhf",
    "outputId": "a72003f9-a248-4e71-b72b-c15ab8d32cae"
   },
   "outputs": [],
   "source": [
    "8 / 4"
   ]
  },
  {
   "cell_type": "code",
   "execution_count": null,
   "metadata": {
    "colab": {
     "base_uri": "https://localhost:8080/",
     "height": 34
    },
    "id": "21gIXq0xTNhi",
    "outputId": "f6a10fa2-8246-4554-b7f9-7373c15e15a9"
   },
   "outputs": [],
   "source": [
    "8 // 4 # floor division operator, integer division "
   ]
  },
  {
   "cell_type": "code",
   "execution_count": null,
   "metadata": {},
   "outputs": [],
   "source": [
    "7 // 2 # 7/2 = 3.5"
   ]
  },
  {
   "cell_type": "code",
   "execution_count": null,
   "metadata": {},
   "outputs": [],
   "source": [
    "9 // 2  #9/2 = 4.5 "
   ]
  },
  {
   "cell_type": "code",
   "execution_count": null,
   "metadata": {},
   "outputs": [],
   "source": [
    "12 // 5 # 12/5 = "
   ]
  },
  {
   "cell_type": "code",
   "execution_count": null,
   "metadata": {},
   "outputs": [],
   "source": [
    "-7 // 2 # -3.5 "
   ]
  },
  {
   "cell_type": "code",
   "execution_count": null,
   "metadata": {},
   "outputs": [],
   "source": [
    "7.5 // 2 # 7.5/2 = 3.75"
   ]
  },
  {
   "cell_type": "code",
   "execution_count": null,
   "metadata": {},
   "outputs": [],
   "source": [
    "7.5/2"
   ]
  },
  {
   "cell_type": "markdown",
   "metadata": {
    "id": "jgSSweONTNhl"
   },
   "source": [
    "# When writing programs, we can put in English language explanations called comments.\n",
    "# Whatever comes after the # symbol is not executed."
   ]
  },
  {
   "cell_type": "code",
   "execution_count": null,
   "metadata": {
    "colab": {
     "base_uri": "https://localhost:8080/",
     "height": 34
    },
    "id": "nq6xHjgXTNho",
    "outputId": "5b8523b4-f516-4a25-a1e3-0bd962ae4429"
   },
   "outputs": [],
   "source": [
    "2 ** 5  # 2 to the power of 5"
   ]
  },
  {
   "cell_type": "code",
   "execution_count": null,
   "metadata": {
    "colab": {
     "base_uri": "https://localhost:8080/",
     "height": 34
    },
    "id": "uYUFjCuwTNhu",
    "outputId": "082c161b-b749-401a-e5d1-53b88a0348e5"
   },
   "outputs": [],
   "source": [
    "# The % operator gives the remainder of a division.\n",
    "# 10 % 3 gives the remainder of 10 // 3\n",
    "10 % 3"
   ]
  },
  {
   "cell_type": "code",
   "execution_count": null,
   "metadata": {},
   "outputs": [],
   "source": [
    "a = int(input(\"Enter a number: \")); b = int(input (\"Enter second number: \"))\n",
    "print (a+b)"
   ]
  },
  {
   "cell_type": "markdown",
   "metadata": {
    "id": "c4Xwz-kgTNhy"
   },
   "source": [
    "In other words, the fraction 10 / 3 can be rewritten as 3 1/3, so the remainder is `1`."
   ]
  },
  {
   "cell_type": "markdown",
   "metadata": {
    "id": "_IHV0KZCTNhy"
   },
   "source": [
    "Operator order of precedence (from highest to lowest)\n",
    "\n",
    "- `**`\n",
    "\n",
    "- `-` (negation)\n",
    "\n",
    "- `*`, `/`, `//`, `%` (left to right)\n",
    "\n",
    "- `+` (addition), `-` (subtraction) (left to right)"
   ]
  },
  {
   "cell_type": "markdown",
   "metadata": {
    "id": "UqRl5T54TNhz"
   },
   "source": [
    "#### Encountering Errors"
   ]
  },
  {
   "cell_type": "markdown",
   "metadata": {
    "id": "zAIHgj7VTNhz"
   },
   "source": [
    "When programming, it is common to encounter errors.  You will learn how to interpret the error messages, so that you can fix your code.  Here are a few examples:"
   ]
  },
  {
   "cell_type": "code",
   "execution_count": null,
   "metadata": {
    "colab": {
     "base_uri": "https://localhost:8080/",
     "height": 129
    },
    "id": "LD6ZdjQvTNh0",
    "outputId": "06368194-0766-43be-e845-5ee82d7e6be8"
   },
   "outputs": [],
   "source": [
    "3 + "
   ]
  },
  {
   "cell_type": "code",
   "execution_count": null,
   "metadata": {
    "colab": {
     "base_uri": "https://localhost:8080/",
     "height": 129
    },
    "id": "GezIHIurTNh3",
    "outputId": "4a167920-c142-43d0-9b08-cbaa0b19141e"
   },
   "outputs": [],
   "source": [
    "4 + 5 ) * 2"
   ]
  },
  {
   "cell_type": "code",
   "execution_count": null,
   "metadata": {
    "colab": {
     "base_uri": "https://localhost:8080/",
     "height": 129
    },
    "id": "m-yLJ34dTNh7",
    "outputId": "a2425396-2ddd-4b73-fe09-ac8ec3e2def2"
   },
   "outputs": [],
   "source": [
    "2 * * 5  #spaces"
   ]
  },
  {
   "cell_type": "code",
   "execution_count": null,
   "metadata": {
    "colab": {
     "base_uri": "https://localhost:8080/",
     "height": 163
    },
    "id": "u7mn7tfkTNh9",
    "outputId": "e2bba197-2f61-480a-a53f-e44460be1fbf"
   },
   "outputs": [],
   "source": [
    "9 / 0"
   ]
  },
  {
   "cell_type": "markdown",
   "metadata": {
    "id": "9wuz8A80VDtf"
   },
   "source": [
    "### Simplifying Arithmetic Operations"
   ]
  },
  {
   "cell_type": "markdown",
   "metadata": {
    "id": "WqSg0wyxVDtf"
   },
   "source": [
    "**round( )** function rounds the input value to a specified number of places or to the nearest integer. "
   ]
  },
  {
   "cell_type": "code",
   "execution_count": null,
   "metadata": {
    "colab": {
     "base_uri": "https://localhost:8080/",
     "height": 51
    },
    "id": "RJVoNxKmVDtg",
    "outputId": "a0b34992-4b46-4a7f-c2b4-2b8b7182057e"
   },
   "outputs": [],
   "source": [
    "print(round(5.6231))\n",
    "# specify the number of places \n",
    "print(round(4.55892, 2))  # round = function, 2 arguments"
   ]
  },
  {
   "cell_type": "markdown",
   "metadata": {
    "id": "vmnrQSSQVDti"
   },
   "source": [
    "**complex( )** is used to define a complex number and **abs( )** outputs the absolute value of the same."
   ]
  },
  {
   "cell_type": "code",
   "execution_count": null,
   "metadata": {
    "colab": {
     "base_uri": "https://localhost:8080/",
     "height": 34
    },
    "id": "2TzGEcNcVDti",
    "outputId": "dfaf5187-d214-4439-ee53-63ff7e24de4f"
   },
   "outputs": [],
   "source": [
    "c =complex('5+2j')\n",
    "print(abs(c))  "
   ]
  },
  {
   "cell_type": "markdown",
   "metadata": {
    "id": "STc5qwDxVDtl"
   },
   "source": [
    "**divmod(x,y)** outputs the quotient and the remainder in a tuple(you will be learning about it in the further chapters) in the format (quotient, remainder). "
   ]
  },
  {
   "cell_type": "code",
   "execution_count": null,
   "metadata": {
    "colab": {
     "base_uri": "https://localhost:8080/",
     "height": 34
    },
    "id": "9VKGXreIVDtl",
    "outputId": "6d892320-4761-41e7-e734-8f8334608d95"
   },
   "outputs": [],
   "source": [
    "divmod(9,2) # 9/2 = 4, remainder = 1"
   ]
  },
  {
   "cell_type": "markdown",
   "metadata": {
    "id": "xWtI3WxLVDts"
   },
   "source": [
    "**pow(x,y,z)** can be used to find the power $x^y$ also the mod of the resulting value with the third specified number can be found i.e. : ($x^y$ % z)."
   ]
  },
  {
   "cell_type": "code",
   "execution_count": null,
   "metadata": {
    "colab": {
     "base_uri": "https://localhost:8080/",
     "height": 51
    },
    "id": "gXJiJl5SVDtt",
    "outputId": "0ac96ccb-da2e-4c95-c8a6-63bb319beb47"
   },
   "outputs": [],
   "source": [
    "print(pow(3,3)) # similiar to **\n",
    "print(pow(3,3,5))"
   ]
  },
  {
   "cell_type": "markdown",
   "metadata": {
    "id": "WbRneFDQd_W9"
   },
   "source": [
    "### Assignment Operator Used to assign value to a variable"
   ]
  },
  {
   "cell_type": "markdown",
   "metadata": {
    "id": "3T-GCHHQeQrh"
   },
   "source": [
    "| Operator | Example | Similar to \n",
    "|----------|---------|----------|\n",
    "| = |x=10 |x = 10\n",
    "| +=  | x+=5 | x = x + 5\n",
    "| -= | x-=5 | x = x - 5\n",
    "| *=  | x*=5 |x = x * 5 \n",
    "| /=  | x/=5 |x = x / 5 \n",
    "| %=  | x%=5 |x = x % 5 \n",
    "| **=  | x**=5 |x = x ** 5\n",
    "| &=  | x&=5 |x = x & 5\n",
    "| ^=  | x^=5 |x = x ^ 5\n",
    "| <<=  | x<<=5 |x = x << 5\n",
    " \n"
   ]
  },
  {
   "cell_type": "code",
   "execution_count": null,
   "metadata": {},
   "outputs": [],
   "source": [
    "x = 3\n",
    "x = x + 3\n",
    "x += 3\n",
    "print (x)"
   ]
  },
  {
   "cell_type": "markdown",
   "metadata": {
    "id": "sUhY9kwHSb91"
   },
   "source": [
    "### Comparison Operators \n",
    "\n",
    "These operators will allow us to compare variables and output a Boolean value (True or False). \n",
    "\n",
    "<h3> Table of Comparison Operators </h3><p>  In the table below, consider a=3 and b=4.</p>\n",
    "\n",
    "<table class=\"table table-bordered\">\n",
    "<tr>\n",
    "<th style=\"width:10%\">Operator</th><th style=\"width:45%\">Description</th><th>Example</th>\n",
    "</tr>\n",
    "<tr>\n",
    "<td>==</td>\n",
    "<td>If the values of two operands are equal, then the condition becomes true.</td>\n",
    "<td> (a == b) is not true.</td>\n",
    "</tr>\n",
    "<tr>\n",
    "<td>!=</td>\n",
    "<td>If values of two operands are not equal, then condition becomes true.</td>\n",
    "<td>(a != b) is true</td>\n",
    "</tr>\n",
    "<tr>\n",
    "<td>&gt;</td>\n",
    "<td>If the value of left operand is greater than the value of right operand, then condition becomes true.</td>\n",
    "<td> (a &gt; b) is not true.</td>\n",
    "</tr>\n",
    "<tr>\n",
    "<td>&lt;</td>\n",
    "<td>If the value of left operand is less than the value of right operand, then condition becomes true.</td>\n",
    "<td> (a &lt; b) is true.</td>\n",
    "</tr>\n",
    "<tr>\n",
    "<td>&gt;=</td>\n",
    "<td>If the value of left operand is greater than or equal to the value of right operand, then condition becomes true.</td>\n",
    "<td> (a &gt;= b) is not true. </td>\n",
    "</tr>\n",
    "<tr>\n",
    "<td>&lt;=</td>\n",
    "<td>If the value of left operand is less than or equal to the value of right operand, then condition becomes true.</td>\n",
    "<td> (a &lt;= b) is true. </td>\n",
    "</tr>\n",
    "</table>"
   ]
  },
  {
   "cell_type": "markdown",
   "metadata": {
    "id": "FiZF__pUSb92"
   },
   "source": [
    "Let's now work through quick examples of each of these.\n",
    "\n",
    "#### Equal"
   ]
  },
  {
   "cell_type": "code",
   "execution_count": null,
   "metadata": {
    "colab": {
     "base_uri": "https://localhost:8080/",
     "height": 34
    },
    "id": "Reo0v_1aSb92",
    "outputId": "fcb9971a-1fcc-429b-9792-b40229b074d1"
   },
   "outputs": [],
   "source": [
    "2 == 2  # equal "
   ]
  },
  {
   "cell_type": "code",
   "execution_count": null,
   "metadata": {},
   "outputs": [],
   "source": [
    "s = 'hello'\n",
    "s1 = 'hello'\n",
    "print (s == s1)"
   ]
  },
  {
   "cell_type": "code",
   "execution_count": null,
   "metadata": {
    "colab": {
     "base_uri": "https://localhost:8080/",
     "height": 34
    },
    "id": "cX3xvVzGSb96",
    "outputId": "881c87d6-8abb-4eb0-e441-7a577aac672f"
   },
   "outputs": [],
   "source": [
    "1 == 0"
   ]
  },
  {
   "cell_type": "markdown",
   "metadata": {
    "id": "sayhkYDJSb99"
   },
   "source": [
    "Note that <code>==</code> is a <em>comparison</em> operator, while <code>=</code> is an <em>assignment</em> operator."
   ]
  },
  {
   "cell_type": "markdown",
   "metadata": {
    "id": "I2QeGhhnSb9-"
   },
   "source": [
    "#### Not Equal"
   ]
  },
  {
   "cell_type": "code",
   "execution_count": null,
   "metadata": {
    "colab": {
     "base_uri": "https://localhost:8080/",
     "height": 34
    },
    "id": "Q_GTDHDzSb9-",
    "outputId": "5e076be5-fa16-4a45-a613-3b5e555980e4"
   },
   "outputs": [],
   "source": [
    "2 != 1  # ! = not "
   ]
  },
  {
   "cell_type": "code",
   "execution_count": null,
   "metadata": {
    "colab": {
     "base_uri": "https://localhost:8080/",
     "height": 34
    },
    "id": "X69c9vztSb-B",
    "outputId": "a0651ac3-d3ea-4373-becc-3f246f09983e"
   },
   "outputs": [],
   "source": [
    "2 != 2"
   ]
  },
  {
   "cell_type": "markdown",
   "metadata": {
    "id": "H3w_umq0Sb-E"
   },
   "source": [
    "#### Greater Than"
   ]
  },
  {
   "cell_type": "code",
   "execution_count": null,
   "metadata": {
    "colab": {
     "base_uri": "https://localhost:8080/",
     "height": 34
    },
    "id": "pDFenlg2Sb-E",
    "outputId": "765bd6ff-2812-47e0-c88a-ae49c57bbf88"
   },
   "outputs": [],
   "source": [
    "2 > 1"
   ]
  },
  {
   "cell_type": "code",
   "execution_count": null,
   "metadata": {
    "colab": {
     "base_uri": "https://localhost:8080/",
     "height": 34
    },
    "id": "BdaXqPZaSb-H",
    "outputId": "57129245-99b7-4911-c734-5c503b709b22"
   },
   "outputs": [],
   "source": [
    "2 > 4"
   ]
  },
  {
   "cell_type": "markdown",
   "metadata": {
    "id": "noTpfMQ9Sb-K"
   },
   "source": [
    "#### Less Than"
   ]
  },
  {
   "cell_type": "code",
   "execution_count": null,
   "metadata": {
    "colab": {
     "base_uri": "https://localhost:8080/",
     "height": 34
    },
    "id": "6krihHAkSb-L",
    "outputId": "bab6ede5-a06a-4ef9-d6ff-54eb2134cba2"
   },
   "outputs": [],
   "source": [
    "2 < 4"
   ]
  },
  {
   "cell_type": "code",
   "execution_count": null,
   "metadata": {
    "colab": {
     "base_uri": "https://localhost:8080/",
     "height": 34
    },
    "id": "TSGPrc43Sb-O",
    "outputId": "718ab6cc-6f26-4d69-937b-7bc15f345d80"
   },
   "outputs": [],
   "source": [
    "2 < 1"
   ]
  },
  {
   "cell_type": "markdown",
   "metadata": {
    "id": "j7gZl5oMSb-Q"
   },
   "source": [
    "#### Greater Than or Equal to"
   ]
  },
  {
   "cell_type": "code",
   "execution_count": null,
   "metadata": {
    "colab": {
     "base_uri": "https://localhost:8080/",
     "height": 34
    },
    "id": "9Uuxt1vzSb-R",
    "outputId": "21380044-9bd7-40c5-d104-2180b3641944"
   },
   "outputs": [],
   "source": [
    "2 >= 2"
   ]
  },
  {
   "cell_type": "code",
   "execution_count": null,
   "metadata": {
    "colab": {
     "base_uri": "https://localhost:8080/",
     "height": 34
    },
    "id": "1AmPBPB2Sb-T",
    "outputId": "64a5d1d4-c95b-4575-f00c-2b0b6b0cd975"
   },
   "outputs": [],
   "source": [
    "2 >= 1"
   ]
  },
  {
   "cell_type": "markdown",
   "metadata": {
    "id": "YT3gk1kwSb-W"
   },
   "source": [
    "#### Less than or Equal to"
   ]
  },
  {
   "cell_type": "code",
   "execution_count": null,
   "metadata": {
    "colab": {
     "base_uri": "https://localhost:8080/",
     "height": 34
    },
    "id": "TgW8K4K4Sb-X",
    "outputId": "e882b90f-f36f-4b24-a98c-1f1572544f00"
   },
   "outputs": [],
   "source": [
    "2 <= 2"
   ]
  },
  {
   "cell_type": "code",
   "execution_count": null,
   "metadata": {
    "colab": {
     "base_uri": "https://localhost:8080/",
     "height": 34
    },
    "id": "60DY1FpuSb-Z",
    "outputId": "a3b97cad-668b-4980-c216-6244fea0c76e"
   },
   "outputs": [],
   "source": [
    "2 <= 4"
   ]
  },
  {
   "cell_type": "code",
   "execution_count": null,
   "metadata": {
    "id": "D7djPsAmQD2G"
   },
   "outputs": [],
   "source": []
  },
  {
   "cell_type": "markdown",
   "metadata": {
    "id": "rnYDR7-fZUVi"
   },
   "source": [
    "#### Chained Comparison Operators\n",
    "\n",
    "An interesting feature of Python is the ability to *chain* multiple comparisons to perform a more complex test. You can use these chained comparisons as shorthand for larger Boolean Expressions.\n",
    "\n",
    "In this lecture we will learn how to chain comparison operators and we will also introduce two other important statements in Python: **and** and **or**.\n",
    "\n",
    "Let's look at a few examples of using chains:"
   ]
  },
  {
   "cell_type": "code",
   "execution_count": null,
   "metadata": {
    "colab": {
     "base_uri": "https://localhost:8080/",
     "height": 34
    },
    "id": "xkGxjXBWZUVk",
    "outputId": "3b59936c-964a-4b15-a0ea-51f9b8ed98ac"
   },
   "outputs": [],
   "source": [
    "1 < 2 < 3"
   ]
  },
  {
   "cell_type": "markdown",
   "metadata": {
    "id": "5NquwTgSZUVq"
   },
   "source": [
    "The above statement checks if 1 was less than 2 **and** if 2 was less than 3. We could have written this using an **and** statement in Python:"
   ]
  },
  {
   "cell_type": "code",
   "execution_count": null,
   "metadata": {
    "colab": {
     "base_uri": "https://localhost:8080/",
     "height": 34
    },
    "id": "pRjOlVP8ZUVq",
    "outputId": "73a9c9a0-4b8e-4e8a-b5c8-56dc60996687"
   },
   "outputs": [],
   "source": [
    "1<2 and 2<3 # and logical operator."
   ]
  },
  {
   "cell_type": "markdown",
   "metadata": {
    "id": "5eqBEEWNZUVt"
   },
   "source": [
    "The **and** is used to make sure two checks have to be true in order for the total check to be true. Let's see another example:"
   ]
  },
  {
   "cell_type": "code",
   "execution_count": null,
   "metadata": {
    "colab": {
     "base_uri": "https://localhost:8080/",
     "height": 34
    },
    "id": "UfTxbJ8zZUVu",
    "outputId": "5e4e0165-880e-4e73-ee0c-6632ef6d5848"
   },
   "outputs": [],
   "source": [
    "1 < 3 > 2"
   ]
  },
  {
   "cell_type": "markdown",
   "metadata": {
    "id": "NigjU6boZUVx"
   },
   "source": [
    "The above checks if 3 is larger than both of the other numbers, so you could use **and** to rewrite it as:"
   ]
  },
  {
   "cell_type": "code",
   "execution_count": null,
   "metadata": {
    "colab": {
     "base_uri": "https://localhost:8080/",
     "height": 34
    },
    "id": "yoaE1rClZUVx",
    "outputId": "eafae928-3e70-489c-dd39-6f5808d3fd0b"
   },
   "outputs": [],
   "source": [
    "1<3 and 3>2"
   ]
  },
  {
   "cell_type": "markdown",
   "metadata": {
    "id": "a-98IyL4ZUV0"
   },
   "source": [
    "It's important to note that Python is checking both instances of the comparisons. We can also use **or** to write comparisons in Python. For example:"
   ]
  },
  {
   "cell_type": "code",
   "execution_count": null,
   "metadata": {
    "colab": {
     "base_uri": "https://localhost:8080/",
     "height": 34
    },
    "id": "5mYAU37uZUV1",
    "outputId": "a55f7191-d9d1-4fcd-e477-9efb73af4c40"
   },
   "outputs": [],
   "source": [
    "1==2 or 2<3"
   ]
  },
  {
   "cell_type": "markdown",
   "metadata": {
    "id": "GlswasBgZUV3"
   },
   "source": [
    "Note how it was true; this is because with the **or** operator, we only need one *or* the other to be true. Let's see one more example to drive this home:"
   ]
  },
  {
   "cell_type": "code",
   "execution_count": null,
   "metadata": {
    "colab": {
     "base_uri": "https://localhost:8080/",
     "height": 34
    },
    "id": "DkQ4b_MCZUV4",
    "outputId": "1a3bbf02-3e1c-47fe-9748-05bb2cafaf1a"
   },
   "outputs": [],
   "source": [
    "not(1==1 or 100==1)"
   ]
  },
  {
   "cell_type": "markdown",
   "metadata": {
    "id": "J3jb4uY7iv2C"
   },
   "source": [
    "### Logical Operator\n",
    "Logical Operators are used to combine conditional statements\n",
    "\n",
    "| Operator | Description | Example\n",
    "|----|---|---|\n",
    "| and  | Returns True if both statements are true | x < 5 and  x < 10\t\n",
    "| or  | Returns True if one of the statements is true | x < 5 or  x < 10\t\n",
    "| not  | Reverse the result, returns False if the result is true and vice versa | not(x < 5 or  x < 10)"
   ]
  },
  {
   "cell_type": "code",
   "execution_count": null,
   "metadata": {},
   "outputs": [],
   "source": [
    "not (5>4)"
   ]
  },
  {
   "cell_type": "markdown",
   "metadata": {
    "id": "cMjvDWu2VDs3"
   },
   "source": [
    "### Bitwise Operators"
   ]
  },
  {
   "cell_type": "markdown",
   "metadata": {
    "id": "lOcFq61LVDs4"
   },
   "source": [
    "| Symbol | Task Performed |\n",
    "|----|---|\n",
    "| &  | Logical And |\n",
    "| l  | Logical OR |\n",
    "| ^  | XOR |\n",
    "| ~  | Negate |\n",
    "| >>  | Right shift |\n",
    "| <<  | Left shift |"
   ]
  },
  {
   "cell_type": "code",
   "execution_count": null,
   "metadata": {
    "id": "uf4042pDVDs4"
   },
   "outputs": [],
   "source": [
    "# binary_number= bin(1455)\n",
    "# print(binary_number)\n",
    "a = 2 #10\n",
    "b = 3 #11"
   ]
  },
  {
   "cell_type": "code",
   "execution_count": 26,
   "metadata": {
    "colab": {
     "base_uri": "https://localhost:8080/",
     "height": 51
    },
    "id": "hvRNOdAxVDs7",
    "outputId": "32d8233f-6070-4f62-8c4e-2cebec7b1c61"
   },
   "outputs": [
    {
     "name": "stdout",
     "output_type": "stream",
     "text": [
      "2\n",
      "0b10\n",
      "0b1010\n"
     ]
    }
   ],
   "source": [
    "print(a & b)\n",
    "print (bin(a&b))\n",
    "print(bin(10))"
   ]
  },
  {
   "cell_type": "code",
   "execution_count": 27,
   "metadata": {
    "colab": {
     "base_uri": "https://localhost:8080/",
     "height": 34
    },
    "id": "ICIDVA_QVDs9",
    "outputId": "c199c6d2-d037-4efe-b202-7c3ceb1b6b20"
   },
   "outputs": [
    {
     "data": {
      "text/plain": [
       "1"
      ]
     },
     "execution_count": 27,
     "metadata": {},
     "output_type": "execute_result"
    }
   ],
   "source": [
    "5 >> 2"
   ]
  },
  {
   "cell_type": "markdown",
   "metadata": {
    "id": "Qwo00pTuVDs_"
   },
   "source": [
    "0000 0101 -> 5 \n",
    "\n",
    "Shifting the digits by 1 to the right and zero padding\n",
    "\n",
    "0000 0010 -> 2"
   ]
  },
  {
   "cell_type": "code",
   "execution_count": 29,
   "metadata": {
    "colab": {
     "base_uri": "https://localhost:8080/",
     "height": 34
    },
    "id": "xjfE6cSCVDtA",
    "outputId": "76e6e750-fe16-45ff-abc1-32dec31b8150"
   },
   "outputs": [
    {
     "data": {
      "text/plain": [
       "20"
      ]
     },
     "execution_count": 29,
     "metadata": {},
     "output_type": "execute_result"
    }
   ],
   "source": [
    "5 << 2"
   ]
  },
  {
   "cell_type": "markdown",
   "metadata": {
    "id": "7Ghj6cCzVDtC"
   },
   "source": [
    "0000 0101 -> 5 \n",
    "\n",
    "Shifting the digits by 1 to the left and zero padding\n",
    "\n",
    "0000 1010 -> 10"
   ]
  },
  {
   "cell_type": "markdown",
   "metadata": {
    "id": "pjytSoZkoC9K"
   },
   "source": [
    "###Identity Operator\n",
    "Identity operators are used to compare the objects, not if they are equal, but if they are actually the same object, with the same memory location.\n",
    "\n",
    "\n",
    "| Operator | Description | Example\n",
    "|----|---|---|\n",
    "| is  | Returns True if both variables are the same object| x is y\n",
    "| is not  | Returns True if both variables are not the same object| x is not y\t\n"
   ]
  },
  {
   "cell_type": "code",
   "execution_count": 36,
   "metadata": {},
   "outputs": [
    {
     "name": "stdout",
     "output_type": "stream",
     "text": [
      "False\n",
      "True\n"
     ]
    }
   ],
   "source": [
    "a = [1,2,3,4]    # compares the memory location\n",
    "b = [1,2,3,4]\n",
    "print (a is b)\n",
    "print (a == b)"
   ]
  },
  {
   "cell_type": "code",
   "execution_count": 38,
   "metadata": {},
   "outputs": [
    {
     "name": "stdout",
     "output_type": "stream",
     "text": [
      "True\n",
      "True\n"
     ]
    }
   ],
   "source": [
    "a = 1000\n",
    "b = 1000\n",
    "print (a is b)\n",
    "print(a == b)"
   ]
  },
  {
   "cell_type": "code",
   "execution_count": 35,
   "metadata": {},
   "outputs": [
    {
     "name": "stdout",
     "output_type": "stream",
     "text": [
      "True\n"
     ]
    }
   ],
   "source": [
    "print (a == b)"
   ]
  },
  {
   "cell_type": "code",
   "execution_count": 37,
   "metadata": {},
   "outputs": [
    {
     "name": "stdout",
     "output_type": "stream",
     "text": [
      "equals operator: True\n",
      "identity operator: True\n"
     ]
    }
   ],
   "source": [
    "a = \"string\"\n",
    "b = \"string\"\n",
    "print (\"equals operator:\", a == b)\n",
    "print (\"identity operator:\", a is b)  # caching = python"
   ]
  },
  {
   "cell_type": "markdown",
   "metadata": {
    "id": "P43Nsv4Ioudl"
   },
   "source": [
    "### Membership Operator\n",
    "Membership operators are used to test if a sequence is presented in an object\n",
    "\n",
    "| Operator | Description | Example\n",
    "|----|---|---|\n",
    "| in  | Returns True if a sequence with the specified value is present in the object| x in y\n",
    "| not in  | Returns True if a sequence with the specified value is not present in the object| x not in y\t\n"
   ]
  },
  {
   "cell_type": "code",
   "execution_count": 30,
   "metadata": {},
   "outputs": [
    {
     "name": "stdout",
     "output_type": "stream",
     "text": [
      "True\n",
      "False\n"
     ]
    }
   ],
   "source": [
    "sentence = \"The quick brown fox\"\n",
    "print(\"quick\" in sentence)  \n",
    "print(\"slow\" in sentence) "
   ]
  },
  {
   "cell_type": "code",
   "execution_count": 31,
   "metadata": {},
   "outputs": [
    {
     "name": "stdout",
     "output_type": "stream",
     "text": [
      "True\n",
      "False\n"
     ]
    }
   ],
   "source": [
    "li = [1,2,3,4,5,6] # list \n",
    "print (1 in li)\n",
    "print (10 in li)"
   ]
  },
  {
   "cell_type": "code",
   "execution_count": 32,
   "metadata": {},
   "outputs": [
    {
     "name": "stdout",
     "output_type": "stream",
     "text": [
      "<class 'str'> <class 'int'> <class 'float'> <class 'str'>\n"
     ]
    }
   ],
   "source": [
    "# type operator\n",
    "a = \"string\"\n",
    "b = 10\n",
    "c = 78.6\n",
    "d = 'c'\n",
    "print (type(a), type(b), type(78.6), type (d)) "
   ]
  },
  {
   "cell_type": "code",
   "execution_count": null,
   "metadata": {},
   "outputs": [],
   "source": []
  }
 ],
 "metadata": {
  "colab": {
   "collapsed_sections": [
    "9wuz8A80VDtf",
    "FiZF__pUSb92",
    "I2QeGhhnSb9-",
    "H3w_umq0Sb-E",
    "noTpfMQ9Sb-K",
    "j7gZl5oMSb-Q",
    "YT3gk1kwSb-W",
    "rnYDR7-fZUVi"
   ],
   "name": "1752_day1_demo1 - Operators in Python.ipynb",
   "provenance": []
  },
  "kernelspec": {
   "display_name": "Python 3 (ipykernel)",
   "language": "python",
   "name": "python3"
  },
  "language_info": {
   "codemirror_mode": {
    "name": "ipython",
    "version": 3
   },
   "file_extension": ".py",
   "mimetype": "text/x-python",
   "name": "python",
   "nbconvert_exporter": "python",
   "pygments_lexer": "ipython3",
   "version": "3.12.4"
  }
 },
 "nbformat": 4,
 "nbformat_minor": 4
}
